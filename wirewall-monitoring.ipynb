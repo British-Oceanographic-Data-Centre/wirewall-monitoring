{
 "cells": [
  {
   "cell_type": "markdown",
   "metadata": {},
   "source": [
    "# WireWall monitoring\n",
    "This Jupyter notebook provides a method for manually monitoring the ERDDAP data produced by WireWall.\n",
    "\n",
    "**Note: these plots are provided for data monitoring only and should not be used for critical or safety purposes.**"
   ]
  },
  {
   "cell_type": "markdown",
   "metadata": {},
   "source": [
    "## Setup"
   ]
  },
  {
   "cell_type": "code",
   "execution_count": null,
   "metadata": {},
   "outputs": [],
   "source": [
    "import datetime\n",
    "from wirewall import WireWallMonitor\n",
    "\n",
    "SITE_MAP = {\n",
    "    \"Test Site (T01)\": \"Wirewall_9c6b_dcdf_7ffe\",\n",
    "    \"Dawlish Garden (D01)\": \"CreamT_747f_b818_8edf\",\n",
    "    \"Dawlish Wall (D02)\": \"CreamT_747f_cj65_2fgh\",\n",
    "    \"Dawlish Crest (D03)\": \"CreamT_867g_dk78_3jhi\",\n",
    "    \"Dawlish Wavewell (D04)\": \"CreamT_234r_rt99_4klp\",\n",
    "    \"Penzance Mid Prom (P01)\": \"CreamT_365s_sl89_5wmp\",\n",
    "    \"Penzance Lamppost (P02)\": \"CreamT_132a_bc44_5vcf\",\n",
    "    \"Penzance Far End (P03)\": \"CreamT_890g_ty66_3qso\",\n",
    "}\n",
    "\n",
    "WINDOW_VARIABLES = [\n",
    "    \"PTILE2_elVAR (cm^2)\",\n",
    "    \"PTILE1_elVAR (cm^2)\",\n",
    "    \"MEDelPTILE_2 (cm)\",\n",
    "    \"MEDelMEAN (cm)\",\n",
    "]\n",
    "WINDOW_VARIABLES_SECONDARY = [\n",
    "    None,\n",
    "    None,\n",
    "    \"MINelPTILE_1 (cm)\",\n",
    "    \"MINelPTILE_1 (cm)\",\n",
    "]\n",
    "\n",
    "EVENT_VARIABLES = [\n",
    "    \"event depth preferred (cm)\",\n",
    "    \"event depth fallback (cm)\",\n",
    "    \"elVAR (cm^2)\",\n",
    "]\n",
    "\n",
    "DATE_CONSTRAINTS = {\n",
    "    \"time>=\": \"2017-01-01\",\n",
    "    \"time<=\": str(datetime.date.today() + datetime.timedelta(days=1)),  # Note: add one day to ensure today is fully included\n",
    "}\n",
    "\n",
    "wwm = WireWallMonitor(\n",
    "    erddap_server=\"https://linkedsystems.uk/erddap/\",\n",
    "    constraints=DATE_CONSTRAINTS,\n",
    ")"
   ]
  },
  {
   "cell_type": "markdown",
   "metadata": {},
   "source": [
    "## Site: Test Site (T01)"
   ]
  },
  {
   "cell_type": "code",
   "execution_count": null,
   "metadata": {},
   "outputs": [],
   "source": [
    "figs = wwm.plot_variables(\n",
    "    dataset_id=SITE_MAP[\"Test Site (T01)\"],\n",
    "    window_variables=WINDOW_VARIABLES,\n",
    "    window_variables_secondary=WINDOW_VARIABLES_SECONDARY,\n",
    "    event_variables=EVENT_VARIABLES,\n",
    ")"
   ]
  },
  {
   "cell_type": "markdown",
   "metadata": {},
   "source": [
    "## Site: Dawlish Garden (D01)"
   ]
  },
  {
   "cell_type": "code",
   "execution_count": null,
   "metadata": {},
   "outputs": [],
   "source": [
    "figs = wwm.plot_variables(\n",
    "    dataset_id=SITE_MAP[\"Dawlish Garden (D01)\"],\n",
    "    window_variables=WINDOW_VARIABLES,\n",
    "    window_variables_secondary=WINDOW_VARIABLES_SECONDARY,\n",
    "    event_variables=EVENT_VARIABLES,\n",
    ")"
   ]
  },
  {
   "cell_type": "markdown",
   "metadata": {},
   "source": [
    "## Site: Dawlish Wall (D02)"
   ]
  },
  {
   "cell_type": "code",
   "execution_count": null,
   "metadata": {},
   "outputs": [],
   "source": [
    "figs = wwm.plot_variables(\n",
    "    dataset_id=SITE_MAP[\"Dawlish Wall (D02)\"],\n",
    "    window_variables=WINDOW_VARIABLES,\n",
    "    window_variables_secondary=WINDOW_VARIABLES_SECONDARY,\n",
    "    event_variables=EVENT_VARIABLES,\n",
    ")"
   ]
  },
  {
   "cell_type": "markdown",
   "metadata": {},
   "source": [
    "## Site: Dawlish Crest (D03)"
   ]
  },
  {
   "cell_type": "code",
   "execution_count": null,
   "metadata": {},
   "outputs": [],
   "source": [
    "figs = wwm.plot_variables(\n",
    "    dataset_id=SITE_MAP[\"Dawlish Crest (D03)\"],\n",
    "    window_variables=WINDOW_VARIABLES,\n",
    "    window_variables_secondary=WINDOW_VARIABLES_SECONDARY,\n",
    "    event_variables=EVENT_VARIABLES,\n",
    ")"
   ]
  },
  {
   "cell_type": "markdown",
   "metadata": {},
   "source": [
    "## Site: Dawlish Wavewell (D04)"
   ]
  },
  {
   "cell_type": "code",
   "execution_count": null,
   "metadata": {},
   "outputs": [],
   "source": [
    "figs = wwm.plot_variables(\n",
    "    dataset_id=SITE_MAP[\"Dawlish Wavewell (D04)\"],\n",
    "    window_variables=WINDOW_VARIABLES,\n",
    "    window_variables_secondary=WINDOW_VARIABLES_SECONDARY,\n",
    "    event_variables=EVENT_VARIABLES,\n",
    ")"
   ]
  },
  {
   "cell_type": "markdown",
   "metadata": {},
   "source": [
    "## Site: Penzance Mid Prom (P01)"
   ]
  },
  {
   "cell_type": "code",
   "execution_count": null,
   "metadata": {},
   "outputs": [],
   "source": [
    "figs = wwm.plot_variables(\n",
    "    dataset_id=SITE_MAP[\"Penzance Mid Prom (P01)\"],\n",
    "    window_variables=WINDOW_VARIABLES,\n",
    "    window_variables_secondary=WINDOW_VARIABLES_SECONDARY,\n",
    "    event_variables=EVENT_VARIABLES,\n",
    ")"
   ]
  },
  {
   "cell_type": "markdown",
   "metadata": {},
   "source": [
    "## Site: Penzance Lamppost (P02)"
   ]
  },
  {
   "cell_type": "code",
   "execution_count": null,
   "metadata": {},
   "outputs": [],
   "source": [
    "figs = wwm.plot_variables(\n",
    "    dataset_id=SITE_MAP[\"Penzance Lamppost (P02)\"],\n",
    "    window_variables=WINDOW_VARIABLES,\n",
    "    window_variables_secondary=WINDOW_VARIABLES_SECONDARY,\n",
    "    event_variables=EVENT_VARIABLES,\n",
    ")"
   ]
  },
  {
   "cell_type": "markdown",
   "metadata": {},
   "source": [
    "## Site: Penzance Far End (P03)"
   ]
  },
  {
   "cell_type": "code",
   "execution_count": null,
   "metadata": {},
   "outputs": [],
   "source": [
    "figs = wwm.plot_variables(\n",
    "    dataset_id=SITE_MAP[\"Penzance Far End (P03)\"],\n",
    "    window_variables=WINDOW_VARIABLES,\n",
    "    window_variables_secondary=WINDOW_VARIABLES_SECONDARY,\n",
    "    event_variables=EVENT_VARIABLES,\n",
    ")"
   ]
  }
 ],
 "metadata": {
  "kernelspec": {
   "display_name": "Python 3",
   "language": "python",
   "name": "python3"
  },
  "language_info": {
   "codemirror_mode": {
    "name": "ipython",
    "version": 3
   },
   "file_extension": ".py",
   "mimetype": "text/x-python",
   "name": "python",
   "nbconvert_exporter": "python",
   "pygments_lexer": "ipython3",
   "version": "3.8.6"
  }
 },
 "nbformat": 4,
 "nbformat_minor": 4
}
